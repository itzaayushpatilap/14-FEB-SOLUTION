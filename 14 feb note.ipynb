{
 "cells": [
  {
   "cell_type": "raw",
   "id": "00765cc5-6515-4249-9499-502f55c7fb73",
   "metadata": {},
   "source": [
    "1). what is multithreading in python? hy is it used? Name the module used to handle threads in python"
   ]
  },
  {
   "cell_type": "raw",
   "id": "720673ed-0f78-44d4-87e2-09e10288be09",
   "metadata": {},
   "source": [
    "Multithreading is the ability of a program or an operating system to enable more than one user at a time without requiring multiple copies of the program running on the computer. Multithreading can also handle various requests from the same user. Each user request for a program or system service is tracked as a thread with a separate identity.\n"
   ]
  },
  {
   "cell_type": "raw",
   "id": "236a923b-c1d1-44bb-ab92-4668108bf8b2",
   "metadata": {},
   "source": [
    "threading.activeCount() \n",
    "threading.currentThread() \n",
    "threading.enumerate\n",
    " run\n",
    " start\n",
    " join\n",
    " isAlive)"
   ]
  },
  {
   "cell_type": "raw",
   "id": "571806fe-8ce0-4159-a936-2facde5ca009",
   "metadata": {},
   "source": [
    "2. why threading module used? rite the use of the following functions\n",
    "( activeCount\n",
    " currentThread\n",
    " enumerate)"
   ]
  },
  {
   "cell_type": "raw",
   "id": "727ef9b8-d37b-4464-85c6-c6518ffe9a0e",
   "metadata": {},
   "source": [
    "ans - threading.activeCount() − Returns the number of thread objects that are active.\n",
    "threading.currentThread() − Returns the number of thread objects in the caller's thread control.\n",
    "threading.enumerate() − Returns a list of all thread objects that are currently active."
   ]
  },
  {
   "cell_type": "raw",
   "id": "12a014e7-09e9-4721-8dbd-16b7cbd16cd0",
   "metadata": {},
   "source": [
    "3. Explain the following functions\n",
    "( run\n",
    " start\n",
    " join\n",
    "' isAlive)"
   ]
  },
  {
   "cell_type": "raw",
   "id": "a8089cf9-16a9-4ef6-a19b-a47794cbafa8",
   "metadata": {},
   "source": [
    "run()  − The run() method is the entry point for a thread.\n",
    "start()  − The start() method starts a thread by calling the run method.\n",
    "join([time])  − The join() waits for threads to terminate.\n",
    "isAlive()  − The isAlive() method checks whether a thread is still executing."
   ]
  },
  {
   "cell_type": "raw",
   "id": "55c4648c-a9fb-41eb-817c-c2fce62a1d7a",
   "metadata": {},
   "source": [
    "5. State advantages and disadvantages of multithreading"
   ]
  },
  {
   "cell_type": "raw",
   "id": "8a7a51da-323c-47d3-ab01-e60e94bcb841",
   "metadata": {},
   "source": [
    "Advantages:\n",
    "\n",
    "It doesn’t block the user. This is because threads are independent of each other.\n",
    "Better use of system resources is possible since threads execute tasks parallely.\n",
    "Enhanced performance on multi-processor machines.\n",
    "Multi-threaded servers and interactive GUIs use multithreading exclusively."
   ]
  },
  {
   "cell_type": "raw",
   "id": "7b3d5217-7692-4c82-a95c-b955f39525cb",
   "metadata": {},
   "source": [
    "Disadvantages:\n",
    "\n",
    "As number of threads increase, complexity increases.\n",
    "Synchronization of shared resources (objects, data) is necessary.\n",
    "It is difficult to debug, result is sometimes unpredictable.\n",
    "Potential deadlocks which leads to starvation, i.e. some threads may not be served with a bad design\n",
    "Constructing and synchronizing threads is CPU/memory intensive"
   ]
  },
  {
   "cell_type": "raw",
   "id": "1d0c48c0-fb4d-4bf1-81d4-4a4efbb193cc",
   "metadata": {},
   "source": [
    "6) Explain deadlocks and race conditions."
   ]
  },
  {
   "cell_type": "raw",
   "id": "fb8a404e-4991-484c-807b-cd6bf370087c",
   "metadata": {},
   "source": [
    "ans -In the field of computer science, deadlock refers to a specific situation at a time planning, when no progress can be made and the system is locked in it current situation. In many cases, the condition is caused by a lack of, or mistreatment, communication between different locking devices (for thread synchronization purposes)."
   ]
  },
  {
   "cell_type": "raw",
   "id": "7a68d730-2ead-4c17-9384-f9d828bad59d",
   "metadata": {},
   "source": [
    "There are many types of race conditions, although a common type of race condition is when two or more threads attempt to change the same data variable. NOTE: Race conditions are a real problem in Python when using threads, even in the presence of the global interpreter lock (GIL).\n"
   ]
  }
 ],
 "metadata": {
  "kernelspec": {
   "display_name": "Python 3 (ipykernel)",
   "language": "python",
   "name": "python3"
  },
  "language_info": {
   "codemirror_mode": {
    "name": "ipython",
    "version": 3
   },
   "file_extension": ".py",
   "mimetype": "text/x-python",
   "name": "python",
   "nbconvert_exporter": "python",
   "pygments_lexer": "ipython3",
   "version": "3.10.8"
  }
 },
 "nbformat": 4,
 "nbformat_minor": 5
}
